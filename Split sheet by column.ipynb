{
 "cells": [
  {
   "cell_type": "code",
   "execution_count": null,
   "id": "fe780dac",
   "metadata": {},
   "outputs": [],
   "source": [
    "import pandas as pd\n",
    "import xlsxwriter\n",
    "\n",
    "data=pd.read_excel(r\"path\",encoding='gbk') #gbk=编码格式\n",
    "sub_list=list(set(data[\"column\"])) #column=any column want to split as\n",
    "writer=pd.ExcelWriter(r\"path\",engine='xlsxwriter') #generate new sheet\n",
    "data.to_excel(writer,sheet_name='unitied list',index=False)#总表存\n",
    "for j in sub_list:\n",
    "    df=data[data[\"column\"]==j]\n",
    "    df.to_excel(writer,sheet_name=j,index=False)\n",
    "writer.save()"
   ]
  }
 ],
 "metadata": {
  "kernelspec": {
   "display_name": "Python 3",
   "language": "python",
   "name": "python3"
  },
  "language_info": {
   "codemirror_mode": {
    "name": "ipython",
    "version": 3
   },
   "file_extension": ".py",
   "mimetype": "text/x-python",
   "name": "python",
   "nbconvert_exporter": "python",
   "pygments_lexer": "ipython3",
   "version": "3.8.8"
  }
 },
 "nbformat": 4,
 "nbformat_minor": 5
}
