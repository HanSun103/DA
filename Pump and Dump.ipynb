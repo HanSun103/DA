{
 "cells": [
  {
   "cell_type": "markdown",
   "id": "8598c080",
   "metadata": {},
   "source": [
    "Purpose of this project:\n",
    "\n",
    "The Pump and Dump Review can be used to surveillance the stock market abuse behavior,which may lead to arise in circumstances where financial market investors have been unreasonably disadvantaged by others who have information that not publicly available."
   ]
  },
  {
   "cell_type": "markdown",
   "id": "52840dd9",
   "metadata": {},
   "source": [
    "Data:\n",
    "https://www.kaggle.com/qks1lver/amex-nyse-nasdaq-stock-histories\n",
    "\"In real working enviroment, expect to have support on data\"."
   ]
  },
  {
   "cell_type": "code",
   "execution_count": null,
   "id": "47e0a5ae",
   "metadata": {
    "scrolled": true
   },
   "outputs": [],
   "source": [
    "# Copyright@ Han Sun\n",
    "import pandas as pd\n",
    "import numpy as np\n",
    "import matplotlib.pyplot as plt\n",
    "import os\n",
    "import glob\n",
    "path = \"C:/Users/Han/DA/project/Data/full_history/*.csv\"\n",
    "\n",
    "def daily_percent_change(df):\n",
    "    \n",
    "    for i in range(len(df)-1):\n",
    "        i=i+1\n",
    "        df['daily_percent_change'][i]=(df['close'][i]/df['close'][i-1]-1)*100\n",
    "\n",
    "def five_days_fluctuation(df):\n",
    "    #print(\"variance divided by close\")\n",
    "    df['five_days_fluctuation']=(df['daily_percent_change'].rolling(window=5).std())\n",
    "\n",
    "def get_filename(path):\n",
    "    filename = path.split(\"\\\\\")[1].split('.')[0]\n",
    "    return filename    \n",
    "\n",
    "l=[]\n",
    "\n",
    "for fname in glob.glob(path):\n",
    "    \n",
    "    filename = get_filename(fname)\n",
    "    #print(filename)\n",
    "    df = pd.read_csv(fname) \n",
    "    df['Name'] = filename\n",
    "    df['daily_percent_change']=\"\"\n",
    "    #df['five_days_fluctuation']=\"\"#print (fname)\n",
    "    #data_file_list = os.path.basename(\"C:/Users/Han/DA/project/Data/full_history/*.csv\")\n",
    "    #file_list.append(data_file_list)\n",
    "   # print(df)\n",
    "    df['Date2'] = pd.to_datetime(df['date'])\n",
    "    df = df.sort_values(by='Date2')           #重新排列 Add date, today, etc.\n",
    "    df = df.reset_index(drop=True)\n",
    "    \n",
    "    daily_percent_change(df)\n",
    "    df['daily_percent_change'][0] = 0\n",
    "    #print(df)\n",
    "    five_days_fluctuation(df)\n",
    "    \n",
    "    #df=df.drop(index=[0,1,2,3])\n",
    "    #print(df)\n",
    "    df['five_days_fluctuation'][0:4] = 0  #还是需要drop前5行\n",
    "    df['five_days_fluctuation'].astype(float)\n",
    "    #print(df)\n",
    "    df_daily_percent_change = df.loc[(df['daily_percent_change']> 75) | (df['daily_percent_change']< -45)]\n",
    "    #print(df_daily_percent_change)\n",
    "#print(L)\n",
    "    df_five_days_fluctuation = df.loc[(df['five_days_fluctuation'] > 20)]\n",
    "    #print(df_five_days_fluctuation)\n",
    "    \n",
    "    l.append(df_daily_percent_change)\n",
    "    l.append(df_five_days_fluctuation)\n",
    "\n",
    "L=pd.concat(l)\n",
    "#print(L)\n",
    "\n",
    "    #plt.plot(df['close'])\n",
    "    #print(daily_percent_change)\n",
    "    #print(df_var2)  \n",
    "#print((df['Close'].rolling(window=5).var()/df['Close']).to_string())\n",
    "    \n",
    "print('complete')    "
   ]
  },
  {
   "cell_type": "code",
   "execution_count": null,
   "id": "af197b21",
   "metadata": {
    "scrolled": false
   },
   "outputs": [],
   "source": [
    "import pymysql          # Anaconda prompt\n",
    "from sqlalchemy import create_engine\n",
    "\n",
    "creds = {'usr': 'root',\n",
    "        'pwd':'**************',\n",
    "        'hst':'localhost',\n",
    "        'prt': 3306,\n",
    "        'dbn':'schema_1'}\n",
    "connstr = 'mysql+pymysql://{usr}:{pwd}@{hst}:{prt}/{dbn}'\n",
    "engine = create_engine(connstr.format(**creds))\n",
    "\n",
    "L.to_sql(name='stock_analysis_version',schema='schema_1', con=engine, if_exists='replace',index=False)\n",
    "print('complete')"
   ]
  },
  {
   "cell_type": "code",
   "execution_count": null,
   "id": "5d90ed96",
   "metadata": {},
   "outputs": [],
   "source": [
    "L.to_csv(\"problem1.csv\",index=False)"
   ]
  },
  {
   "cell_type": "code",
   "execution_count": null,
   "id": "c03f9957",
   "metadata": {},
   "outputs": [],
   "source": []
  }
 ],
 "metadata": {
  "kernelspec": {
   "display_name": "Python 3",
   "language": "python",
   "name": "python3"
  },
  "language_info": {
   "codemirror_mode": {
    "name": "ipython",
    "version": 3
   },
   "file_extension": ".py",
   "mimetype": "text/x-python",
   "name": "python",
   "nbconvert_exporter": "python",
   "pygments_lexer": "ipython3",
   "version": "3.8.8"
  }
 },
 "nbformat": 4,
 "nbformat_minor": 5
}
